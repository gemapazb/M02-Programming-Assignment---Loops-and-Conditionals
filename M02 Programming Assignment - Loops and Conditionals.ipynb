{
 "cells": [
  {
   "cell_type": "code",
   "execution_count": 6,
   "id": "71e3edca",
   "metadata": {},
   "outputs": [
    {
     "name": "stdout",
     "output_type": "stream",
     "text": [
      "too high\n"
     ]
    }
   ],
   "source": [
    "#4.1 Choose a number between 1 and 10 and assign it to the variable secret.\n",
    "#Then, select another number between 1 and 10 and assign it to the variable guess\n",
    "secret = 8 \n",
    "guess = 9\n",
    "\n",
    "#write the conditional tests \n",
    "\n",
    "if guess < secret:\n",
    "    print (\"too low\")\n",
    "elif guess > secret:\n",
    "    print (\"too high\")\n",
    "    \n",
    "else:\n",
    "    print (\"just right\")\n",
    "    \n",
    "    "
   ]
  },
  {
   "cell_type": "code",
   "execution_count": 3,
   "id": "604b398f",
   "metadata": {},
   "outputs": [
    {
     "name": "stdout",
     "output_type": "stream",
     "text": [
      "watermelon\n"
     ]
    }
   ],
   "source": [
    "#4.2 Assign True or False to the variables small and green. \n",
    "\n",
    "small = False\n",
    "green = True\n",
    "\n",
    "\n",
    "#Write some if/else statements to print which of these matches those choices: cherry, pea, watermelon, pumpkin.\n",
    "\n",
    "\n",
    "\n",
    "if small:\n",
    "    if green:\n",
    "        print(\"pea\") #pea and cherry are both small \n",
    "    else:\n",
    "        print(\"cherry\")\n",
    "    \n",
    "else:\n",
    "    if green:\n",
    "        print(\"watermelon\") #watermelon and pumpking are big but waterelon is green \n",
    "    else:\n",
    "        print(\"pumpkin\")\n",
    "#Since small is False and Green is True the print will be Watermelon"
   ]
  },
  {
   "cell_type": "code",
   "execution_count": 1,
   "id": "6f02e39a",
   "metadata": {},
   "outputs": [
    {
     "name": "stdout",
     "output_type": "stream",
     "text": [
      "3\n",
      "2\n",
      "1\n",
      "0\n"
     ]
    }
   ],
   "source": [
    "#6.1 Use a for loop to print the values of the list [3, 2, 1, 0].\n",
    "\n",
    "for values in [3,2,1,0]:#values is the variable \n",
    "    print (values)"
   ]
  },
  {
   "cell_type": "code",
   "execution_count": 2,
   "id": "41681317",
   "metadata": {},
   "outputs": [
    {
     "name": "stdout",
     "output_type": "stream",
     "text": [
      "too low\n",
      "too low\n",
      "too low\n",
      "too low\n",
      "too low\n",
      "too low\n",
      "Found it\n"
     ]
    }
   ],
   "source": [
    "#6.2 Assign the value 7 to the variable guess_me,\n",
    "guess_me = 7 \n",
    "#and the value 1 to the variable number\n",
    "number =1 \n",
    "\n",
    "\n",
    " #Write a while loop that compares number with guess_me. Print 'too low'if number is less than guess me\n",
    "while True: \n",
    "    if number < guess_me: \n",
    "        print(\"too low\")\n",
    "    elif number == guess_me: #If number equals guess_me, print 'found it!'\n",
    "        print(\"Found it\")\n",
    "        break #and then exit the loop.\n",
    "    elif number > guess_me: #If number is greater than guess_me, print 'oops' \n",
    "        print(\"oops\")\n",
    "        break #and then exit the loop\n",
    "    number += 1 #Increment number at the end of the loop.\n",
    "        \n"
   ]
  },
  {
   "cell_type": "code",
   "execution_count": 4,
   "id": "c8c5a1de",
   "metadata": {},
   "outputs": [
    {
     "name": "stdout",
     "output_type": "stream",
     "text": [
      "too low\n",
      "too low\n",
      "too low\n",
      "too low\n",
      "too low\n",
      "found it\n"
     ]
    }
   ],
   "source": [
    "#6.3 Assign the value 5 to the variable guess_me. \n",
    "\n",
    "guess_me = 5\n",
    "\n",
    "#Use a for loop to iterate a variable called number over range(10)\n",
    "for number in range(10):\n",
    "#If number is less than guess_me, print 'too low'\n",
    "    if number < guess_me:\n",
    "        print(\"too low\")\n",
    "    elif number == guess_me :\n",
    "        print (\"found it\")\n",
    "        break # and then break out of the for loop.\n",
    "        \n",
    "    else:#If number is greater than guess_me, print 'oops' and then exit the loop.\n",
    "        print (\"oops\")\n",
    "        break "
   ]
  },
  {
   "cell_type": "code",
   "execution_count": null,
   "id": "bd88ff30",
   "metadata": {},
   "outputs": [],
   "source": []
  }
 ],
 "metadata": {
  "kernelspec": {
   "display_name": "Python 3 (ipykernel)",
   "language": "python",
   "name": "python3"
  },
  "language_info": {
   "codemirror_mode": {
    "name": "ipython",
    "version": 3
   },
   "file_extension": ".py",
   "mimetype": "text/x-python",
   "name": "python",
   "nbconvert_exporter": "python",
   "pygments_lexer": "ipython3",
   "version": "3.9.13"
  }
 },
 "nbformat": 4,
 "nbformat_minor": 5
}
